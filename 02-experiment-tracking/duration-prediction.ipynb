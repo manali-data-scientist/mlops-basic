{
 "cells": [
  {
   "cell_type": "code",
   "execution_count": 1,
   "id": "b2bd82d7",
   "metadata": {},
   "outputs": [
    {
     "name": "stdout",
     "output_type": "stream",
     "text": [
      "Python 3.9.23\n"
     ]
    }
   ],
   "source": [
    "!python -V"
   ]
  },
  {
   "cell_type": "code",
   "execution_count": 2,
   "id": "41062d8a",
   "metadata": {},
   "outputs": [],
   "source": [
    "import pandas as pd"
   ]
  },
  {
   "cell_type": "code",
   "execution_count": 3,
   "id": "c984c564",
   "metadata": {},
   "outputs": [],
   "source": [
    "import pickle"
   ]
  },
  {
   "cell_type": "code",
   "execution_count": 4,
   "id": "4add538c",
   "metadata": {},
   "outputs": [],
   "source": [
    "import seaborn as sns\n",
    "import matplotlib.pyplot as plt"
   ]
  },
  {
   "cell_type": "code",
   "execution_count": 5,
   "id": "8b135c2b",
   "metadata": {},
   "outputs": [],
   "source": [
    "from sklearn.feature_extraction import DictVectorizer\n",
    "from sklearn.linear_model import LinearRegression\n",
    "from sklearn.linear_model import Lasso\n",
    "from sklearn.linear_model import Ridge\n",
    "\n",
    "from sklearn.metrics import mean_squared_error"
   ]
  },
  {
   "cell_type": "code",
   "execution_count": 6,
   "id": "1464985f",
   "metadata": {},
   "outputs": [
    {
     "name": "stderr",
     "output_type": "stream",
     "text": [
      "2025/07/08 06:54:19 INFO mlflow.store.db.utils: Creating initial MLflow database tables...\n",
      "2025/07/08 06:54:19 INFO mlflow.store.db.utils: Updating database tables\n",
      "INFO  [alembic.runtime.migration] Context impl SQLiteImpl.\n",
      "INFO  [alembic.runtime.migration] Will assume non-transactional DDL.\n",
      "INFO  [alembic.runtime.migration] Context impl SQLiteImpl.\n",
      "INFO  [alembic.runtime.migration] Will assume non-transactional DDL.\n"
     ]
    },
    {
     "data": {
      "text/plain": [
       "<Experiment: artifact_location='/workspaces/mlops-basic/02-experiment-tracking/mlruns/1', creation_time=1751954357296, experiment_id='1', last_update_time=1751954357296, lifecycle_stage='active', name='nyc-taxi-experiment', tags={}>"
      ]
     },
     "execution_count": 6,
     "metadata": {},
     "output_type": "execute_result"
    }
   ],
   "source": [
    "import mlflow\n",
    "\n",
    "\n",
    "mlflow.set_tracking_uri(\"sqlite:///mlflow.db\")\n",
    "mlflow.set_experiment(\"nyc-taxi-experiment\")"
   ]
  },
  {
   "cell_type": "code",
   "execution_count": 7,
   "id": "f9e6479e",
   "metadata": {},
   "outputs": [],
   "source": [
    "def read_dataframe(filename):\n",
    "    df = pd.read_csv(filename)\n",
    "\n",
    "    df.lpep_dropoff_datetime = pd.to_datetime(df.lpep_dropoff_datetime)\n",
    "    df.lpep_pickup_datetime = pd.to_datetime(df.lpep_pickup_datetime)\n",
    "\n",
    "    df['duration'] = df.lpep_dropoff_datetime - df.lpep_pickup_datetime\n",
    "    df.duration = df.duration.apply(lambda td: td.total_seconds() / 60)\n",
    "\n",
    "    df = df[(df.duration >= 1) & (df.duration <= 60)]\n",
    "\n",
    "    categorical = ['PULocationID', 'DOLocationID']\n",
    "    df[categorical] = df[categorical].astype(str)\n",
    "    \n",
    "    return df"
   ]
  },
  {
   "cell_type": "code",
   "execution_count": 8,
   "id": "8029eba0",
   "metadata": {},
   "outputs": [],
   "source": [
    "df_train = pd.read_parquet('./data/green_tripdata_2021-01.parquet')\n",
    "df_val = pd.read_parquet('./data/green_tripdata_2021-02.parquet')"
   ]
  },
  {
   "cell_type": "code",
   "execution_count": 9,
   "id": "f6f2f0eb",
   "metadata": {},
   "outputs": [
    {
     "data": {
      "text/plain": [
       "(76518, 64572)"
      ]
     },
     "execution_count": 9,
     "metadata": {},
     "output_type": "execute_result"
    }
   ],
   "source": [
    "len(df_train), len(df_val)"
   ]
  },
  {
   "cell_type": "code",
   "execution_count": 10,
   "id": "951d51ef",
   "metadata": {},
   "outputs": [],
   "source": [
    "df_train['PU_DO'] = df_train['PULocationID'].astype(str) + '_' + df_train['DOLocationID'].astype(str)\n",
    "df_val['PU_DO'] = df_val['PULocationID'].astype(str) + '_' + df_val['DOLocationID'].astype(str)"
   ]
  },
  {
   "cell_type": "code",
   "execution_count": 11,
   "id": "c5cbfc25",
   "metadata": {},
   "outputs": [],
   "source": [
    "categorical = ['PU_DO'] #'PULocationID', 'DOLocationID']\n",
    "numerical = ['trip_distance']\n",
    "\n",
    "dv = DictVectorizer()\n",
    "\n",
    "train_dicts = df_train[categorical + numerical].to_dict(orient='records')\n",
    "X_train = dv.fit_transform(train_dicts)\n",
    "\n",
    "val_dicts = df_val[categorical + numerical].to_dict(orient='records')\n",
    "X_val = dv.transform(val_dicts)"
   ]
  },
  {
   "cell_type": "code",
   "execution_count": 12,
   "id": "1e9fb68b",
   "metadata": {},
   "outputs": [],
   "source": [
    "# Compute duration column if not present\n",
    "if 'duration' not in df_train.columns:\n",
    "\tdf_train['duration'] = (df_train.lpep_dropoff_datetime - df_train.lpep_pickup_datetime).dt.total_seconds() / 60\n",
    "if 'duration' not in df_val.columns:\n",
    "\tdf_val['duration'] = (df_val.lpep_dropoff_datetime - df_val.lpep_pickup_datetime).dt.total_seconds() / 60\n",
    "\n",
    "target = 'duration'\n",
    "y_train = df_train[target].values\n",
    "y_val = df_val[target].values"
   ]
  },
  {
   "cell_type": "code",
   "execution_count": 13,
   "id": "429e2394",
   "metadata": {},
   "outputs": [
    {
     "data": {
      "text/plain": [
       "np.float64(53.60353017829977)"
      ]
     },
     "execution_count": 13,
     "metadata": {},
     "output_type": "execute_result"
    }
   ],
   "source": [
    "lr = LinearRegression()\n",
    "lr.fit(X_train, y_train)\n",
    "\n",
    "y_pred = lr.predict(X_val)\n",
    "\n",
    "import numpy as np\n",
    "np.sqrt(mean_squared_error(y_val, y_pred))"
   ]
  },
  {
   "cell_type": "code",
   "execution_count": 14,
   "id": "22bf6f8b",
   "metadata": {},
   "outputs": [],
   "source": [
    "with open('models/lin_reg.bin', 'wb') as f_out:\n",
    "    pickle.dump((dv, lr), f_out)"
   ]
  },
  {
   "cell_type": "code",
   "execution_count": 15,
   "id": "a4999b94",
   "metadata": {},
   "outputs": [],
   "source": [
    "with mlflow.start_run():\n",
    "\n",
    "    mlflow.set_tag(\"developer\", \"manali\")\n",
    "\n",
    "    mlflow.log_param(\"train-data-path\", \"./data/green_tripdata_2021-01.parquet\")\n",
    "    mlflow.log_param(\"valid-data-path\", \"./data/green_tripdata_2021-02.parquet\")\n",
    "\n",
    "    alpha = 0.1\n",
    "    mlflow.log_param(\"alpha\", alpha)\n",
    "    lr = Lasso(alpha)\n",
    "    lr.fit(X_train, y_train)\n",
    "\n",
    "    y_pred = lr.predict(X_val)\n",
    "    rmse = mean_squared_error(y_val, y_pred) ** 0.5\n",
    "    mlflow.log_metric(\"rmse\", rmse)\n",
    "\n",
    "    mlflow.log_artifact(local_path=\"models/lin_reg.bin\", artifact_path=\"models_pickle\")"
   ]
  },
  {
   "cell_type": "code",
   "execution_count": 16,
   "id": "5f56e97b",
   "metadata": {},
   "outputs": [],
   "source": [
    "import xgboost as xgb"
   ]
  },
  {
   "cell_type": "code",
   "execution_count": 17,
   "id": "907dc6a2",
   "metadata": {},
   "outputs": [],
   "source": [
    "from hyperopt import fmin, tpe, hp, STATUS_OK, Trials\n",
    "from hyperopt.pyll import scope"
   ]
  },
  {
   "cell_type": "code",
   "execution_count": 18,
   "id": "091ab328",
   "metadata": {},
   "outputs": [],
   "source": [
    "train = xgb.DMatrix(X_train, label=y_train)\n",
    "valid = xgb.DMatrix(X_val, label=y_val)"
   ]
  },
  {
   "cell_type": "code",
   "execution_count": 19,
   "id": "c2d84b26",
   "metadata": {},
   "outputs": [],
   "source": [
    "def objective(params):\n",
    "    with mlflow.start_run():\n",
    "        mlflow.set_tag(\"model\", \"xgboost\")\n",
    "        mlflow.log_params(params)\n",
    "        booster = xgb.train(\n",
    "            params=params,\n",
    "            dtrain=train,\n",
    "            num_boost_round=1000,\n",
    "            evals=[(valid, 'validation')],\n",
    "            early_stopping_rounds=50\n",
    "        )\n",
    "        y_pred = booster.predict(valid)\n",
    "        rmse = np.sqrt(mean_squared_error(y_val, y_pred))\n",
    "        mlflow.log_metric(\"rmse\", rmse)\n",
    "\n",
    "    return {'loss': rmse, 'status': STATUS_OK}"
   ]
  },
  {
   "cell_type": "code",
   "execution_count": 20,
   "id": "6b1f77f5",
   "metadata": {},
   "outputs": [
    {
     "name": "stdout",
     "output_type": "stream",
     "text": [
      "[0]\tvalidation-rmse:52.35917                          \n",
      "  0%|          | 0/10 [00:00<?, ?trial/s, best loss=?]"
     ]
    },
    {
     "name": "stderr",
     "output_type": "stream",
     "text": [
      "/home/codespace/anaconda3/envs/exp-tracking-env/lib/python3.9/site-packages/xgboost/core.py:158: UserWarning: [06:54:25] WARNING: /workspace/src/objective/regression_obj.cu:227: reg:linear is now deprecated in favor of reg:squarederror.\n",
      "  warnings.warn(smsg, UserWarning)\n",
      "\n"
     ]
    },
    {
     "name": "stdout",
     "output_type": "stream",
     "text": [
      "[1]\tvalidation-rmse:52.21828                          \n",
      "[2]\tvalidation-rmse:52.18885                          \n",
      "[3]\tvalidation-rmse:52.17491                          \n",
      "[4]\tvalidation-rmse:52.23369                          \n",
      "[5]\tvalidation-rmse:52.27531                          \n",
      "[6]\tvalidation-rmse:52.29342                          \n",
      "[7]\tvalidation-rmse:52.33867                          \n",
      "[8]\tvalidation-rmse:52.42663                          \n",
      "[9]\tvalidation-rmse:52.51353                          \n",
      "[10]\tvalidation-rmse:52.53612                         \n",
      "[11]\tvalidation-rmse:52.55566                         \n",
      "[12]\tvalidation-rmse:52.56486                         \n",
      "[13]\tvalidation-rmse:52.57418                         \n",
      "[14]\tvalidation-rmse:52.62714                         \n",
      "[15]\tvalidation-rmse:52.65470                         \n",
      "[16]\tvalidation-rmse:52.69573                         \n",
      "[17]\tvalidation-rmse:52.71136                         \n",
      "[18]\tvalidation-rmse:52.74169                         \n",
      "[19]\tvalidation-rmse:52.78206                         \n",
      "[20]\tvalidation-rmse:52.79519                         \n",
      "[21]\tvalidation-rmse:52.83612                         \n",
      "[22]\tvalidation-rmse:52.87101                         \n",
      "[23]\tvalidation-rmse:52.91265                         \n",
      "[24]\tvalidation-rmse:52.96721                         \n",
      "[25]\tvalidation-rmse:52.99716                         \n",
      "[26]\tvalidation-rmse:52.97387                         \n",
      "[27]\tvalidation-rmse:53.02073                         \n",
      "[28]\tvalidation-rmse:53.02972                         \n",
      "[29]\tvalidation-rmse:53.04966                         \n",
      "[30]\tvalidation-rmse:53.09634                         \n",
      "[31]\tvalidation-rmse:53.09247                         \n",
      "[32]\tvalidation-rmse:53.11594                         \n",
      "[33]\tvalidation-rmse:53.14046                         \n",
      "[34]\tvalidation-rmse:53.15440                         \n",
      "[35]\tvalidation-rmse:53.16697                         \n",
      "[36]\tvalidation-rmse:53.17921                         \n",
      "[37]\tvalidation-rmse:53.18842                         \n",
      "[38]\tvalidation-rmse:53.19885                         \n",
      "[39]\tvalidation-rmse:53.23226                         \n",
      "[40]\tvalidation-rmse:53.24549                         \n",
      "[41]\tvalidation-rmse:53.25095                         \n",
      "[42]\tvalidation-rmse:53.25209                         \n",
      "[43]\tvalidation-rmse:53.25335                         \n",
      "[44]\tvalidation-rmse:53.26214                         \n",
      "[45]\tvalidation-rmse:53.29704                         \n",
      "[46]\tvalidation-rmse:53.33274                         \n",
      "[47]\tvalidation-rmse:53.34228                         \n",
      "[48]\tvalidation-rmse:53.33304                         \n",
      "[49]\tvalidation-rmse:53.35543                         \n",
      "[50]\tvalidation-rmse:53.35719                         \n",
      "[51]\tvalidation-rmse:53.35594                         \n",
      "[52]\tvalidation-rmse:53.35992                         \n",
      "[53]\tvalidation-rmse:53.35981                         \n",
      " 10%|█         | 1/10 [00:04<00:42,  4.75s/trial, best loss: 53.35980504105125]"
     ]
    },
    {
     "name": "stderr",
     "output_type": "stream",
     "text": [
      "/home/codespace/anaconda3/envs/exp-tracking-env/lib/python3.9/site-packages/xgboost/core.py:158: UserWarning: [06:54:30] WARNING: /workspace/src/objective/regression_obj.cu:227: reg:linear is now deprecated in favor of reg:squarederror.\n",
      "  warnings.warn(smsg, UserWarning)\n",
      "\n"
     ]
    },
    {
     "name": "stdout",
     "output_type": "stream",
     "text": [
      "[0]\tvalidation-rmse:53.07181                                                   \n",
      "[1]\tvalidation-rmse:53.01167                                                   \n",
      "[2]\tvalidation-rmse:52.99856                                                   \n",
      "[3]\tvalidation-rmse:53.01790                                                   \n",
      "[4]\tvalidation-rmse:53.07160                                                   \n",
      "[5]\tvalidation-rmse:53.12883                                                   \n",
      "[6]\tvalidation-rmse:53.18156                                                   \n",
      "[7]\tvalidation-rmse:53.27621                                                   \n",
      "[8]\tvalidation-rmse:53.37766                                                   \n",
      "[9]\tvalidation-rmse:53.46660                                                   \n",
      "[10]\tvalidation-rmse:53.58154                                                  \n",
      "[11]\tvalidation-rmse:53.68277                                                  \n",
      "[12]\tvalidation-rmse:53.77412                                                  \n",
      "[13]\tvalidation-rmse:53.89127                                                  \n",
      "[14]\tvalidation-rmse:53.96923                                                  \n",
      "[15]\tvalidation-rmse:54.05186                                                  \n",
      "[16]\tvalidation-rmse:54.14799                                                  \n",
      "[17]\tvalidation-rmse:54.21002                                                  \n",
      "[18]\tvalidation-rmse:54.31680                                                  \n",
      "[19]\tvalidation-rmse:54.38242                                                  \n",
      "[20]\tvalidation-rmse:54.47884                                                  \n",
      "[21]\tvalidation-rmse:54.57361                                                  \n",
      "[22]\tvalidation-rmse:54.67756                                                  \n",
      "[23]\tvalidation-rmse:54.73671                                                  \n",
      "[24]\tvalidation-rmse:54.82597                                                  \n",
      "[25]\tvalidation-rmse:54.91347                                                  \n",
      "[26]\tvalidation-rmse:54.99557                                                  \n",
      "[27]\tvalidation-rmse:55.05831                                                  \n",
      "[28]\tvalidation-rmse:55.14730                                                  \n",
      "[29]\tvalidation-rmse:55.24040                                                  \n",
      "[30]\tvalidation-rmse:55.29521                                                  \n",
      "[31]\tvalidation-rmse:55.39179                                                  \n",
      "[32]\tvalidation-rmse:55.44408                                                  \n",
      "[33]\tvalidation-rmse:55.51243                                                  \n",
      "[34]\tvalidation-rmse:55.59654                                                  \n",
      "[35]\tvalidation-rmse:55.67486                                                  \n",
      "[36]\tvalidation-rmse:55.74804                                                  \n",
      "[37]\tvalidation-rmse:55.77595                                                  \n",
      "[38]\tvalidation-rmse:55.87866                                                  \n",
      "[39]\tvalidation-rmse:55.97453                                                  \n",
      "[40]\tvalidation-rmse:56.05857                                                  \n",
      "[41]\tvalidation-rmse:56.08919                                                  \n",
      "[42]\tvalidation-rmse:56.18871                                                  \n",
      "[43]\tvalidation-rmse:56.21154                                                  \n",
      "[44]\tvalidation-rmse:56.29243                                                  \n",
      "[45]\tvalidation-rmse:56.38107                                                  \n",
      "[46]\tvalidation-rmse:56.44669                                                  \n",
      "[47]\tvalidation-rmse:56.51121                                                  \n",
      "[48]\tvalidation-rmse:56.52208                                                  \n",
      "[49]\tvalidation-rmse:56.54443                                                  \n",
      "[50]\tvalidation-rmse:56.59893                                                  \n",
      "[51]\tvalidation-rmse:56.63626                                                  \n",
      "[52]\tvalidation-rmse:56.69413                                                  \n",
      " 20%|██        | 2/10 [00:18<01:19,  9.98s/trial, best loss: 53.35980504105125]"
     ]
    },
    {
     "name": "stderr",
     "output_type": "stream",
     "text": [
      "/home/codespace/anaconda3/envs/exp-tracking-env/lib/python3.9/site-packages/xgboost/core.py:158: UserWarning: [06:54:43] WARNING: /workspace/src/objective/regression_obj.cu:227: reg:linear is now deprecated in favor of reg:squarederror.\n",
      "  warnings.warn(smsg, UserWarning)\n",
      "\n"
     ]
    },
    {
     "name": "stdout",
     "output_type": "stream",
     "text": [
      "[0]\tvalidation-rmse:52.44419                                                   \n",
      "[1]\tvalidation-rmse:52.58142                                                   \n",
      "[2]\tvalidation-rmse:52.72943                                                   \n",
      "[3]\tvalidation-rmse:52.78637                                                   \n",
      "[4]\tvalidation-rmse:52.77667                                                   \n",
      "[5]\tvalidation-rmse:52.85465                                                   \n",
      "[6]\tvalidation-rmse:52.87849                                                   \n",
      "[7]\tvalidation-rmse:52.94698                                                   \n",
      "[8]\tvalidation-rmse:52.98639                                                   \n",
      "[9]\tvalidation-rmse:52.96797                                                   \n",
      "[10]\tvalidation-rmse:53.02082                                                  \n",
      "[11]\tvalidation-rmse:53.03245                                                  \n",
      "[12]\tvalidation-rmse:53.06399                                                  \n",
      "[13]\tvalidation-rmse:53.07808                                                  \n",
      "[14]\tvalidation-rmse:53.04056                                                  \n",
      "[15]\tvalidation-rmse:53.07493                                                  \n",
      "[16]\tvalidation-rmse:53.09502                                                  \n",
      "[17]\tvalidation-rmse:53.09326                                                  \n",
      "[18]\tvalidation-rmse:53.14470                                                  \n",
      "[19]\tvalidation-rmse:53.16371                                                  \n",
      "[20]\tvalidation-rmse:53.19588                                                  \n",
      "[21]\tvalidation-rmse:53.19189                                                  \n",
      "[22]\tvalidation-rmse:53.21026                                                  \n",
      "[23]\tvalidation-rmse:53.27193                                                  \n",
      "[24]\tvalidation-rmse:53.28732                                                  \n",
      "[25]\tvalidation-rmse:53.27567                                                  \n",
      "[26]\tvalidation-rmse:53.29747                                                  \n",
      "[27]\tvalidation-rmse:53.33740                                                  \n",
      "[28]\tvalidation-rmse:53.36654                                                  \n",
      "[29]\tvalidation-rmse:53.38036                                                  \n",
      "[30]\tvalidation-rmse:53.41447                                                  \n",
      "[31]\tvalidation-rmse:53.41943                                                  \n",
      "[32]\tvalidation-rmse:53.43868                                                  \n",
      "[33]\tvalidation-rmse:53.43258                                                  \n",
      "[34]\tvalidation-rmse:53.43209                                                  \n",
      "[35]\tvalidation-rmse:53.44699                                                  \n",
      "[36]\tvalidation-rmse:53.47471                                                  \n",
      "[37]\tvalidation-rmse:53.43825                                                  \n",
      "[38]\tvalidation-rmse:53.46087                                                  \n",
      "[39]\tvalidation-rmse:53.49910                                                  \n",
      "[40]\tvalidation-rmse:53.50263                                                  \n",
      "[41]\tvalidation-rmse:53.58445                                                  \n",
      "[42]\tvalidation-rmse:53.57868                                                  \n",
      "[43]\tvalidation-rmse:53.55461                                                  \n",
      "[44]\tvalidation-rmse:53.58136                                                  \n",
      "[45]\tvalidation-rmse:53.60687                                                  \n",
      "[46]\tvalidation-rmse:53.62432                                                  \n",
      "[47]\tvalidation-rmse:53.63187                                                  \n",
      "[48]\tvalidation-rmse:53.66749                                                  \n",
      "[49]\tvalidation-rmse:53.69401                                                  \n",
      " 30%|███       | 3/10 [00:29<01:14, 10.62s/trial, best loss: 53.35980504105125]"
     ]
    },
    {
     "name": "stderr",
     "output_type": "stream",
     "text": [
      "/home/codespace/anaconda3/envs/exp-tracking-env/lib/python3.9/site-packages/xgboost/core.py:158: UserWarning: [06:54:55] WARNING: /workspace/src/objective/regression_obj.cu:227: reg:linear is now deprecated in favor of reg:squarederror.\n",
      "  warnings.warn(smsg, UserWarning)\n",
      "\n"
     ]
    },
    {
     "name": "stdout",
     "output_type": "stream",
     "text": [
      "[0]\tvalidation-rmse:53.02390                                                   \n",
      "[1]\tvalidation-rmse:52.90674                                                   \n",
      "[2]\tvalidation-rmse:52.82457                                                   \n",
      "[3]\tvalidation-rmse:52.76489                                                   \n",
      "[4]\tvalidation-rmse:52.71470                                                   \n",
      "[5]\tvalidation-rmse:52.68928                                                   \n",
      "[6]\tvalidation-rmse:52.67958                                                   \n",
      "[7]\tvalidation-rmse:52.69138                                                   \n",
      "[8]\tvalidation-rmse:52.70409                                                   \n",
      "[9]\tvalidation-rmse:52.73028                                                   \n",
      "[10]\tvalidation-rmse:52.75789                                                  \n",
      "[11]\tvalidation-rmse:52.79886                                                  \n",
      "[12]\tvalidation-rmse:52.84447                                                  \n",
      "[13]\tvalidation-rmse:52.89406                                                  \n",
      "[14]\tvalidation-rmse:52.95310                                                  \n",
      "[15]\tvalidation-rmse:52.98797                                                  \n",
      "[16]\tvalidation-rmse:53.06471                                                  \n",
      "[17]\tvalidation-rmse:53.12328                                                  \n",
      "[18]\tvalidation-rmse:53.17981                                                  \n",
      "[19]\tvalidation-rmse:53.22297                                                  \n",
      "[20]\tvalidation-rmse:53.30219                                                  \n",
      "[21]\tvalidation-rmse:53.34969                                                  \n",
      "[22]\tvalidation-rmse:53.41063                                                  \n",
      "[23]\tvalidation-rmse:53.44072                                                  \n",
      "[24]\tvalidation-rmse:53.48615                                                  \n",
      "[25]\tvalidation-rmse:53.51952                                                  \n",
      "[26]\tvalidation-rmse:53.55476                                                  \n",
      "[27]\tvalidation-rmse:53.59679                                                  \n",
      "[28]\tvalidation-rmse:53.62831                                                  \n",
      "[29]\tvalidation-rmse:53.67510                                                  \n",
      "[30]\tvalidation-rmse:53.71627                                                  \n",
      "[31]\tvalidation-rmse:53.75745                                                  \n",
      "[32]\tvalidation-rmse:53.80054                                                  \n",
      "[33]\tvalidation-rmse:53.83788                                                  \n",
      "[34]\tvalidation-rmse:53.87321                                                  \n",
      "[35]\tvalidation-rmse:53.90334                                                  \n",
      "[36]\tvalidation-rmse:53.93363                                                  \n",
      "[37]\tvalidation-rmse:53.95731                                                  \n",
      "[38]\tvalidation-rmse:53.99056                                                  \n",
      "[39]\tvalidation-rmse:54.02210                                                  \n",
      "[40]\tvalidation-rmse:54.04404                                                  \n",
      "[41]\tvalidation-rmse:54.06851                                                  \n",
      "[42]\tvalidation-rmse:54.09251                                                  \n",
      "[43]\tvalidation-rmse:54.11389                                                  \n",
      "[44]\tvalidation-rmse:54.14109                                                  \n",
      "[45]\tvalidation-rmse:54.15595                                                  \n",
      "[46]\tvalidation-rmse:54.18483                                                  \n",
      "[47]\tvalidation-rmse:54.21357                                                  \n",
      "[48]\tvalidation-rmse:54.21291                                                  \n",
      "[49]\tvalidation-rmse:54.23061                                                  \n",
      "[50]\tvalidation-rmse:54.24984                                                  \n",
      "[51]\tvalidation-rmse:54.25844                                                  \n",
      "[52]\tvalidation-rmse:54.28503                                                  \n",
      "[53]\tvalidation-rmse:54.28267                                                  \n",
      "[54]\tvalidation-rmse:54.29692                                                  \n",
      "[55]\tvalidation-rmse:54.30647                                                  \n",
      " 40%|████      | 4/10 [00:43<01:11, 11.87s/trial, best loss: 53.35980504105125]"
     ]
    },
    {
     "name": "stderr",
     "output_type": "stream",
     "text": [
      "/home/codespace/anaconda3/envs/exp-tracking-env/lib/python3.9/site-packages/xgboost/core.py:158: UserWarning: [06:55:08] WARNING: /workspace/src/objective/regression_obj.cu:227: reg:linear is now deprecated in favor of reg:squarederror.\n",
      "  warnings.warn(smsg, UserWarning)\n",
      "\n"
     ]
    },
    {
     "name": "stdout",
     "output_type": "stream",
     "text": [
      "[0]\tvalidation-rmse:55.26236                                                   \n",
      "[1]\tvalidation-rmse:56.43545                                                   \n",
      "[2]\tvalidation-rmse:57.43228                                                   \n",
      "[3]\tvalidation-rmse:57.96534                                                   \n",
      "[4]\tvalidation-rmse:58.09884                                                   \n",
      "[5]\tvalidation-rmse:58.38552                                                   \n",
      "[6]\tvalidation-rmse:58.88529                                                   \n",
      "[7]\tvalidation-rmse:59.21959                                                   \n",
      "[8]\tvalidation-rmse:59.78352                                                   \n",
      "[9]\tvalidation-rmse:59.82755                                                   \n",
      "[10]\tvalidation-rmse:60.67629                                                  \n",
      "[11]\tvalidation-rmse:60.73299                                                  \n",
      "[12]\tvalidation-rmse:60.77799                                                  \n",
      "[13]\tvalidation-rmse:60.94590                                                  \n",
      "[14]\tvalidation-rmse:60.94941                                                  \n",
      "[15]\tvalidation-rmse:60.98958                                                  \n",
      "[16]\tvalidation-rmse:61.70584                                                  \n",
      "[17]\tvalidation-rmse:61.71365                                                  \n",
      "[18]\tvalidation-rmse:61.71415                                                  \n",
      "[19]\tvalidation-rmse:61.71415                                                  \n",
      "[20]\tvalidation-rmse:61.73276                                                  \n",
      "[21]\tvalidation-rmse:61.73249                                                  \n",
      "[22]\tvalidation-rmse:61.73234                                                  \n",
      "[23]\tvalidation-rmse:61.73778                                                  \n",
      "[24]\tvalidation-rmse:61.73780                                                  \n",
      "[25]\tvalidation-rmse:61.75839                                                  \n",
      "[26]\tvalidation-rmse:61.87783                                                  \n",
      "[27]\tvalidation-rmse:61.88600                                                  \n",
      "[28]\tvalidation-rmse:61.90084                                                  \n",
      "[29]\tvalidation-rmse:62.06370                                                  \n",
      "[30]\tvalidation-rmse:62.06416                                                  \n",
      "[31]\tvalidation-rmse:62.09219                                                  \n",
      "[32]\tvalidation-rmse:62.11632                                                  \n",
      "[33]\tvalidation-rmse:62.11644                                                  \n",
      "[34]\tvalidation-rmse:62.11828                                                  \n",
      "[35]\tvalidation-rmse:62.32053                                                  \n",
      "[36]\tvalidation-rmse:62.32970                                                  \n",
      "[37]\tvalidation-rmse:62.33232                                                  \n",
      "[38]\tvalidation-rmse:62.34082                                                  \n",
      "[39]\tvalidation-rmse:62.34145                                                  \n",
      "[40]\tvalidation-rmse:62.34109                                                  \n",
      "[41]\tvalidation-rmse:62.34099                                                  \n",
      "[42]\tvalidation-rmse:62.34058                                                  \n",
      "[43]\tvalidation-rmse:62.34057                                                  \n",
      "[44]\tvalidation-rmse:62.34427                                                  \n",
      "[45]\tvalidation-rmse:62.35986                                                  \n",
      "[46]\tvalidation-rmse:62.36059                                                  \n",
      "[47]\tvalidation-rmse:62.35890                                                  \n",
      "[48]\tvalidation-rmse:62.35862                                                  \n",
      "[49]\tvalidation-rmse:62.37786                                                  \n",
      " 50%|█████     | 5/10 [00:53<00:56, 11.22s/trial, best loss: 53.35980504105125]"
     ]
    },
    {
     "name": "stderr",
     "output_type": "stream",
     "text": [
      "/home/codespace/anaconda3/envs/exp-tracking-env/lib/python3.9/site-packages/xgboost/core.py:158: UserWarning: [06:55:19] WARNING: /workspace/src/objective/regression_obj.cu:227: reg:linear is now deprecated in favor of reg:squarederror.\n",
      "  warnings.warn(smsg, UserWarning)\n",
      "\n"
     ]
    },
    {
     "name": "stdout",
     "output_type": "stream",
     "text": [
      "[0]\tvalidation-rmse:52.57126                                                   \n",
      "[1]\tvalidation-rmse:52.55724                                                   \n",
      "[2]\tvalidation-rmse:52.63187                                                   \n",
      "[3]\tvalidation-rmse:52.69670                                                   \n",
      "[4]\tvalidation-rmse:52.68458                                                   \n",
      "[5]\tvalidation-rmse:52.76753                                                   \n",
      "[6]\tvalidation-rmse:52.83083                                                   \n",
      "[7]\tvalidation-rmse:52.89463                                                   \n",
      "[8]\tvalidation-rmse:52.94698                                                   \n",
      "[9]\tvalidation-rmse:53.01452                                                   \n",
      "[10]\tvalidation-rmse:53.01698                                                  \n",
      "[11]\tvalidation-rmse:53.06011                                                  \n",
      "[12]\tvalidation-rmse:53.09845                                                  \n",
      "[13]\tvalidation-rmse:53.15250                                                  \n",
      "[14]\tvalidation-rmse:53.17218                                                  \n",
      "[15]\tvalidation-rmse:53.16773                                                  \n",
      "[16]\tvalidation-rmse:53.20065                                                  \n",
      "[17]\tvalidation-rmse:53.21427                                                  \n",
      "[18]\tvalidation-rmse:53.21278                                                  \n",
      "[19]\tvalidation-rmse:53.24517                                                  \n",
      "[20]\tvalidation-rmse:53.24942                                                  \n",
      "[21]\tvalidation-rmse:53.24698                                                  \n",
      "[22]\tvalidation-rmse:53.25300                                                  \n",
      "[23]\tvalidation-rmse:53.26361                                                  \n",
      "[24]\tvalidation-rmse:53.29558                                                  \n",
      "[25]\tvalidation-rmse:53.32616                                                  \n",
      "[26]\tvalidation-rmse:53.32340                                                  \n",
      "[27]\tvalidation-rmse:53.32250                                                  \n",
      "[28]\tvalidation-rmse:53.34948                                                  \n",
      "[29]\tvalidation-rmse:53.37149                                                  \n",
      "[30]\tvalidation-rmse:53.41400                                                  \n",
      "[31]\tvalidation-rmse:53.45280                                                  \n",
      "[32]\tvalidation-rmse:53.45771                                                  \n",
      "[33]\tvalidation-rmse:53.47807                                                  \n",
      "[34]\tvalidation-rmse:53.45679                                                  \n",
      "[35]\tvalidation-rmse:53.47872                                                  \n",
      "[36]\tvalidation-rmse:53.50993                                                  \n",
      "[37]\tvalidation-rmse:53.51388                                                  \n",
      "[38]\tvalidation-rmse:53.52659                                                  \n",
      "[39]\tvalidation-rmse:53.52818                                                  \n",
      "[40]\tvalidation-rmse:53.52549                                                  \n",
      "[41]\tvalidation-rmse:53.53410                                                  \n",
      "[42]\tvalidation-rmse:53.54614                                                  \n",
      "[43]\tvalidation-rmse:53.55807                                                  \n",
      "[44]\tvalidation-rmse:53.54563                                                  \n",
      "[45]\tvalidation-rmse:53.56698                                                  \n",
      "[46]\tvalidation-rmse:53.57899                                                  \n",
      "[47]\tvalidation-rmse:53.59049                                                  \n",
      "[48]\tvalidation-rmse:53.60738                                                  \n",
      "[49]\tvalidation-rmse:53.62978                                                  \n",
      "[50]\tvalidation-rmse:53.63551                                                  \n",
      "[0]\tvalidation-rmse:52.48328                                                   \n",
      "[1]\tvalidation-rmse:52.60365                                                   \n",
      " 60%|██████    | 6/10 [01:05<00:45, 11.34s/trial, best loss: 53.35980504105125]"
     ]
    },
    {
     "name": "stderr",
     "output_type": "stream",
     "text": [
      "/home/codespace/anaconda3/envs/exp-tracking-env/lib/python3.9/site-packages/xgboost/core.py:158: UserWarning: [06:55:30] WARNING: /workspace/src/objective/regression_obj.cu:227: reg:linear is now deprecated in favor of reg:squarederror.\n",
      "  warnings.warn(smsg, UserWarning)\n",
      "\n"
     ]
    },
    {
     "name": "stdout",
     "output_type": "stream",
     "text": [
      "[2]\tvalidation-rmse:52.65190                                                   \n",
      "[3]\tvalidation-rmse:53.03326                                                   \n",
      "[4]\tvalidation-rmse:53.13381                                                   \n",
      "[5]\tvalidation-rmse:53.29682                                                   \n",
      "[6]\tvalidation-rmse:53.41650                                                   \n",
      "[7]\tvalidation-rmse:53.74240                                                   \n",
      "[8]\tvalidation-rmse:53.87121                                                   \n",
      "[9]\tvalidation-rmse:54.07500                                                   \n",
      "[10]\tvalidation-rmse:54.17768                                                  \n",
      "[11]\tvalidation-rmse:54.30375                                                  \n",
      "[12]\tvalidation-rmse:54.34659                                                  \n",
      "[13]\tvalidation-rmse:54.37322                                                  \n",
      "[14]\tvalidation-rmse:54.55253                                                  \n",
      "[15]\tvalidation-rmse:54.71136                                                  \n",
      "[16]\tvalidation-rmse:54.96421                                                  \n",
      "[17]\tvalidation-rmse:54.99571                                                  \n",
      "[18]\tvalidation-rmse:55.02732                                                  \n",
      "[19]\tvalidation-rmse:55.05737                                                  \n",
      "[20]\tvalidation-rmse:55.12481                                                  \n",
      "[21]\tvalidation-rmse:55.18098                                                  \n",
      "[22]\tvalidation-rmse:55.36886                                                  \n",
      "[23]\tvalidation-rmse:55.43334                                                  \n",
      "[24]\tvalidation-rmse:55.55501                                                  \n",
      "[25]\tvalidation-rmse:55.69316                                                  \n",
      "[26]\tvalidation-rmse:55.72348                                                  \n",
      "[27]\tvalidation-rmse:55.79734                                                  \n",
      "[28]\tvalidation-rmse:55.83206                                                  \n",
      "[29]\tvalidation-rmse:55.84992                                                  \n",
      "[30]\tvalidation-rmse:55.89386                                                  \n",
      "[31]\tvalidation-rmse:55.88796                                                  \n",
      "[32]\tvalidation-rmse:55.96170                                                  \n",
      "[33]\tvalidation-rmse:55.97723                                                  \n",
      "[34]\tvalidation-rmse:56.06294                                                  \n",
      "[35]\tvalidation-rmse:56.16849                                                  \n",
      "[36]\tvalidation-rmse:56.19353                                                  \n",
      "[37]\tvalidation-rmse:56.17881                                                  \n",
      "[38]\tvalidation-rmse:56.16440                                                  \n",
      "[39]\tvalidation-rmse:56.23920                                                  \n",
      "[40]\tvalidation-rmse:56.31153                                                  \n",
      "[41]\tvalidation-rmse:56.33547                                                  \n",
      "[42]\tvalidation-rmse:56.34848                                                  \n",
      "[43]\tvalidation-rmse:56.41127                                                  \n",
      "[44]\tvalidation-rmse:56.53596                                                  \n",
      "[45]\tvalidation-rmse:56.53693                                                  \n",
      "[46]\tvalidation-rmse:56.57751                                                  \n",
      "[47]\tvalidation-rmse:56.58808                                                  \n",
      "[48]\tvalidation-rmse:56.63140                                                  \n",
      "[49]\tvalidation-rmse:56.66553                                                  \n",
      "[50]\tvalidation-rmse:56.70226                                                  \n",
      " 70%|███████   | 7/10 [01:10<00:28,  9.38s/trial, best loss: 53.35980504105125]"
     ]
    },
    {
     "name": "stderr",
     "output_type": "stream",
     "text": [
      "/home/codespace/anaconda3/envs/exp-tracking-env/lib/python3.9/site-packages/xgboost/core.py:158: UserWarning: [06:55:35] WARNING: /workspace/src/objective/regression_obj.cu:227: reg:linear is now deprecated in favor of reg:squarederror.\n",
      "  warnings.warn(smsg, UserWarning)\n",
      "\n"
     ]
    },
    {
     "name": "stdout",
     "output_type": "stream",
     "text": [
      "[0]\tvalidation-rmse:52.96032                                                   \n",
      "[1]\tvalidation-rmse:52.81439                                                   \n",
      "[2]\tvalidation-rmse:52.71749                                                   \n",
      "[3]\tvalidation-rmse:52.65967                                                   \n",
      "[4]\tvalidation-rmse:52.62515                                                   \n",
      "[5]\tvalidation-rmse:52.61918                                                   \n",
      "[6]\tvalidation-rmse:52.62624                                                   \n",
      "[7]\tvalidation-rmse:52.63945                                                   \n",
      "[8]\tvalidation-rmse:52.66627                                                   \n",
      "[9]\tvalidation-rmse:52.70275                                                   \n",
      "[10]\tvalidation-rmse:52.73508                                                  \n",
      "[11]\tvalidation-rmse:52.77998                                                  \n",
      "[12]\tvalidation-rmse:52.80848                                                  \n",
      "[13]\tvalidation-rmse:52.82668                                                  \n",
      "[14]\tvalidation-rmse:52.85063                                                  \n",
      "[15]\tvalidation-rmse:52.89912                                                  \n",
      "[16]\tvalidation-rmse:52.94870                                                  \n",
      "[17]\tvalidation-rmse:52.99099                                                  \n",
      "[18]\tvalidation-rmse:53.01228                                                  \n",
      "[19]\tvalidation-rmse:53.04133                                                  \n",
      "[20]\tvalidation-rmse:53.07277                                                  \n",
      "[21]\tvalidation-rmse:53.10145                                                  \n",
      "[22]\tvalidation-rmse:53.13484                                                  \n",
      "[23]\tvalidation-rmse:53.15832                                                  \n",
      "[24]\tvalidation-rmse:53.16838                                                  \n",
      "[25]\tvalidation-rmse:53.18885                                                  \n",
      "[26]\tvalidation-rmse:53.21133                                                  \n",
      "[27]\tvalidation-rmse:53.22715                                                  \n",
      "[28]\tvalidation-rmse:53.23327                                                  \n",
      "[29]\tvalidation-rmse:53.24894                                                  \n",
      "[30]\tvalidation-rmse:53.27468                                                  \n",
      "[31]\tvalidation-rmse:53.28631                                                  \n",
      "[32]\tvalidation-rmse:53.29910                                                  \n",
      "[33]\tvalidation-rmse:53.30676                                                  \n",
      "[34]\tvalidation-rmse:53.32571                                                  \n",
      "[35]\tvalidation-rmse:53.33290                                                  \n",
      "[36]\tvalidation-rmse:53.35142                                                  \n",
      "[37]\tvalidation-rmse:53.35795                                                  \n",
      "[38]\tvalidation-rmse:53.35625                                                  \n",
      "[39]\tvalidation-rmse:53.37036                                                  \n",
      "[40]\tvalidation-rmse:53.37234                                                  \n",
      "[41]\tvalidation-rmse:53.39038                                                  \n",
      "[42]\tvalidation-rmse:53.39714                                                  \n",
      "[43]\tvalidation-rmse:53.41189                                                  \n",
      "[44]\tvalidation-rmse:53.41222                                                  \n",
      "[45]\tvalidation-rmse:53.42230                                                  \n",
      "[46]\tvalidation-rmse:53.43884                                                  \n",
      "[47]\tvalidation-rmse:53.43548                                                  \n",
      "[48]\tvalidation-rmse:53.44577                                                  \n",
      "[49]\tvalidation-rmse:53.45214                                                  \n",
      "[50]\tvalidation-rmse:53.46355                                                  \n",
      "[51]\tvalidation-rmse:53.46421                                                  \n",
      "[52]\tvalidation-rmse:53.47684                                                  \n",
      "[53]\tvalidation-rmse:53.47786                                                  \n",
      "[54]\tvalidation-rmse:53.48519                                                  \n",
      "[55]\tvalidation-rmse:53.49309                                                  \n",
      "[0]\tvalidation-rmse:53.02363                                                   \n",
      "[1]\tvalidation-rmse:52.89595                                                   \n",
      " 80%|████████  | 8/10 [01:28<00:24, 12.18s/trial, best loss: 53.35980504105125]"
     ]
    },
    {
     "name": "stderr",
     "output_type": "stream",
     "text": [
      "/home/codespace/anaconda3/envs/exp-tracking-env/lib/python3.9/site-packages/xgboost/core.py:158: UserWarning: [06:55:54] WARNING: /workspace/src/objective/regression_obj.cu:227: reg:linear is now deprecated in favor of reg:squarederror.\n",
      "  warnings.warn(smsg, UserWarning)\n",
      "\n"
     ]
    },
    {
     "name": "stdout",
     "output_type": "stream",
     "text": [
      "[2]\tvalidation-rmse:52.78622                                                   \n",
      "[3]\tvalidation-rmse:52.69220                                                   \n",
      "[4]\tvalidation-rmse:52.60793                                                   \n",
      "[5]\tvalidation-rmse:52.53397                                                   \n",
      "[6]\tvalidation-rmse:52.47638                                                   \n",
      "[7]\tvalidation-rmse:52.42116                                                   \n",
      "[8]\tvalidation-rmse:52.37795                                                   \n",
      "[9]\tvalidation-rmse:52.34344                                                   \n",
      "[10]\tvalidation-rmse:52.31024                                                  \n",
      "[11]\tvalidation-rmse:52.28901                                                  \n",
      "[12]\tvalidation-rmse:52.26555                                                  \n",
      "[13]\tvalidation-rmse:52.24665                                                  \n",
      "[14]\tvalidation-rmse:52.23434                                                  \n",
      "[15]\tvalidation-rmse:52.22542                                                  \n",
      "[16]\tvalidation-rmse:52.21154                                                  \n",
      "[17]\tvalidation-rmse:52.20390                                                  \n",
      "[18]\tvalidation-rmse:52.19647                                                  \n",
      "[19]\tvalidation-rmse:52.19875                                                  \n",
      "[20]\tvalidation-rmse:52.19331                                                  \n",
      "[21]\tvalidation-rmse:52.19323                                                  \n",
      "[22]\tvalidation-rmse:52.19227                                                  \n",
      "[23]\tvalidation-rmse:52.19791                                                  \n",
      "[24]\tvalidation-rmse:52.19637                                                  \n",
      "[25]\tvalidation-rmse:52.20441                                                  \n",
      "[26]\tvalidation-rmse:52.21417                                                  \n",
      "[27]\tvalidation-rmse:52.22233                                                  \n",
      "[28]\tvalidation-rmse:52.22681                                                  \n",
      "[29]\tvalidation-rmse:52.23796                                                  \n",
      "[30]\tvalidation-rmse:52.24352                                                  \n",
      "[31]\tvalidation-rmse:52.25170                                                  \n",
      "[32]\tvalidation-rmse:52.25751                                                  \n",
      "[33]\tvalidation-rmse:52.25992                                                  \n",
      "[34]\tvalidation-rmse:52.26453                                                  \n",
      "[35]\tvalidation-rmse:52.26595                                                  \n",
      "[36]\tvalidation-rmse:52.27650                                                  \n",
      "[37]\tvalidation-rmse:52.28301                                                  \n",
      "[38]\tvalidation-rmse:52.29166                                                  \n",
      "[39]\tvalidation-rmse:52.30384                                                  \n",
      "[40]\tvalidation-rmse:52.30676                                                  \n",
      "[41]\tvalidation-rmse:52.31673                                                  \n",
      "[42]\tvalidation-rmse:52.32966                                                  \n",
      "[43]\tvalidation-rmse:52.33543                                                  \n",
      "[44]\tvalidation-rmse:52.34317                                                  \n",
      "[45]\tvalidation-rmse:52.35190                                                  \n",
      "[46]\tvalidation-rmse:52.35829                                                  \n",
      "[47]\tvalidation-rmse:52.36722                                                  \n",
      "[48]\tvalidation-rmse:52.37185                                                  \n",
      "[49]\tvalidation-rmse:52.37836                                                  \n",
      "[50]\tvalidation-rmse:52.38627                                                  \n",
      "[51]\tvalidation-rmse:52.39021                                                  \n",
      "[52]\tvalidation-rmse:52.39308                                                  \n",
      "[53]\tvalidation-rmse:52.39683                                                  \n",
      "[54]\tvalidation-rmse:52.39893                                                  \n",
      "[55]\tvalidation-rmse:52.40487                                                  \n",
      "[56]\tvalidation-rmse:52.40832                                                  \n",
      "[57]\tvalidation-rmse:52.41087                                                  \n",
      "[58]\tvalidation-rmse:52.42145                                                  \n",
      "[59]\tvalidation-rmse:52.42208                                                  \n",
      "[60]\tvalidation-rmse:52.42677                                                  \n",
      "[61]\tvalidation-rmse:52.43281                                                  \n",
      "[62]\tvalidation-rmse:52.43806                                                  \n",
      "[63]\tvalidation-rmse:52.44437                                                  \n",
      "[64]\tvalidation-rmse:52.44897                                                  \n",
      "[65]\tvalidation-rmse:52.44882                                                  \n",
      "[66]\tvalidation-rmse:52.45556                                                  \n",
      "[67]\tvalidation-rmse:52.46039                                                  \n",
      "[68]\tvalidation-rmse:52.46856                                                  \n",
      "[69]\tvalidation-rmse:52.47729                                                  \n",
      "[70]\tvalidation-rmse:52.47924                                                  \n",
      "[71]\tvalidation-rmse:52.48581                                                  \n",
      "[72]\tvalidation-rmse:52.49071                                                  \n",
      " 90%|█████████ | 9/10 [01:36<00:10, 10.70s/trial, best loss: 52.49070920485231]"
     ]
    },
    {
     "name": "stderr",
     "output_type": "stream",
     "text": [
      "/home/codespace/anaconda3/envs/exp-tracking-env/lib/python3.9/site-packages/xgboost/core.py:158: UserWarning: [06:56:01] WARNING: /workspace/src/objective/regression_obj.cu:227: reg:linear is now deprecated in favor of reg:squarederror.\n",
      "  warnings.warn(smsg, UserWarning)\n",
      "\n"
     ]
    },
    {
     "name": "stdout",
     "output_type": "stream",
     "text": [
      "[0]\tvalidation-rmse:52.71207                                                   \n",
      "[1]\tvalidation-rmse:53.06822                                                   \n",
      "[2]\tvalidation-rmse:53.44285                                                   \n",
      "[3]\tvalidation-rmse:53.67069                                                   \n",
      "[4]\tvalidation-rmse:53.78371                                                   \n",
      "[5]\tvalidation-rmse:53.94671                                                   \n",
      "[6]\tvalidation-rmse:54.03036                                                   \n",
      "[7]\tvalidation-rmse:54.07436                                                   \n",
      "[8]\tvalidation-rmse:54.30625                                                   \n",
      "[9]\tvalidation-rmse:54.30815                                                   \n",
      "[10]\tvalidation-rmse:54.32207                                                  \n",
      "[11]\tvalidation-rmse:54.37296                                                  \n",
      "[12]\tvalidation-rmse:54.38092                                                  \n",
      "[13]\tvalidation-rmse:54.45499                                                  \n",
      "[14]\tvalidation-rmse:54.49809                                                  \n",
      "[15]\tvalidation-rmse:54.51941                                                  \n",
      "[16]\tvalidation-rmse:54.70994                                                  \n",
      "[17]\tvalidation-rmse:54.72320                                                  \n",
      "[18]\tvalidation-rmse:54.74358                                                  \n",
      "[19]\tvalidation-rmse:54.75294                                                  \n",
      "[20]\tvalidation-rmse:54.78336                                                  \n",
      "[21]\tvalidation-rmse:54.81538                                                  \n",
      "[22]\tvalidation-rmse:54.83005                                                  \n",
      "[23]\tvalidation-rmse:54.84353                                                  \n",
      "[24]\tvalidation-rmse:54.84451                                                  \n",
      "[25]\tvalidation-rmse:54.88372                                                  \n",
      "[26]\tvalidation-rmse:54.89886                                                  \n",
      "[27]\tvalidation-rmse:54.89630                                                  \n",
      "[28]\tvalidation-rmse:54.89527                                                  \n",
      "[29]\tvalidation-rmse:54.89358                                                  \n",
      "[30]\tvalidation-rmse:54.89247                                                  \n",
      "[31]\tvalidation-rmse:54.89183                                                  \n",
      "[32]\tvalidation-rmse:54.88955                                                  \n",
      "[33]\tvalidation-rmse:54.90320                                                  \n",
      "[34]\tvalidation-rmse:54.90505                                                  \n",
      "[35]\tvalidation-rmse:54.90280                                                  \n",
      "[36]\tvalidation-rmse:54.90288                                                  \n",
      "[37]\tvalidation-rmse:54.90689                                                  \n",
      "[38]\tvalidation-rmse:54.89064                                                  \n",
      "[39]\tvalidation-rmse:54.89555                                                  \n",
      "[40]\tvalidation-rmse:54.83069                                                  \n",
      "[41]\tvalidation-rmse:54.80112                                                  \n",
      "[42]\tvalidation-rmse:54.77931                                                  \n",
      "[43]\tvalidation-rmse:54.83164                                                  \n",
      "[44]\tvalidation-rmse:54.82467                                                  \n",
      "[45]\tvalidation-rmse:54.81567                                                  \n",
      "[46]\tvalidation-rmse:54.86815                                                  \n",
      "[47]\tvalidation-rmse:54.83523                                                  \n",
      "[48]\tvalidation-rmse:54.84851                                                  \n",
      "[49]\tvalidation-rmse:54.88845                                                  \n",
      "100%|██████████| 10/10 [01:43<00:00, 10.36s/trial, best loss: 52.49070920485231]\n"
     ]
    }
   ],
   "source": [
    "search_space = {\n",
    "    'max_depth': scope.int(hp.quniform('max_depth', 4, 30, 1)),\n",
    "    'learning_rate': hp.loguniform('learning_rate', -3, -0.3),\n",
    "    'reg_alpha': hp.loguniform('reg_alpha', -5, -1),\n",
    "    'reg_lambda': hp.loguniform('reg_lambda', -6, -1),\n",
    "    'min_child_weight': hp.loguniform('min_child_weight', -1, 3),\n",
    "    'objective': 'reg:linear',\n",
    "    'seed': 42\n",
    "}\n",
    "\n",
    "best_result = fmin(\n",
    "    fn=objective,\n",
    "    space=search_space,\n",
    "    algo=tpe.suggest,\n",
    "    max_evals=10,\n",
    "    trials=Trials()\n",
    ")"
   ]
  },
  {
   "cell_type": "code",
   "execution_count": 21,
   "id": "fc4d5283",
   "metadata": {},
   "outputs": [],
   "source": [
    "mlflow.xgboost.autolog(disable=True)"
   ]
  },
  {
   "cell_type": "code",
   "execution_count": 22,
   "id": "41754f82",
   "metadata": {},
   "outputs": [
    {
     "name": "stdout",
     "output_type": "stream",
     "text": [
      "Best result: {'learning_rate': np.float64(0.06572486614407753), 'max_depth': np.float64(9.0), 'min_child_weight': np.float64(5.04728992821492), 'reg_alpha': np.float64(0.029449179470630867), 'reg_lambda': np.float64(0.007731792334660835)}\n"
     ]
    }
   ],
   "source": [
    "print(\"Best result:\", best_result)"
   ]
  },
  {
   "cell_type": "code",
   "execution_count": null,
   "id": "0e8cd729",
   "metadata": {},
   "outputs": [
    {
     "name": "stdout",
     "output_type": "stream",
     "text": [
      "[0]\tvalidation-rmse:52.98039\n"
     ]
    },
    {
     "name": "stderr",
     "output_type": "stream",
     "text": [
      "/home/codespace/anaconda3/envs/exp-tracking-env/lib/python3.9/site-packages/xgboost/core.py:158: UserWarning: [06:56:09] WARNING: /workspace/src/objective/regression_obj.cu:227: reg:linear is now deprecated in favor of reg:squarederror.\n",
      "  warnings.warn(smsg, UserWarning)\n"
     ]
    },
    {
     "name": "stdout",
     "output_type": "stream",
     "text": [
      "[1]\tvalidation-rmse:52.83291\n",
      "[2]\tvalidation-rmse:52.72407\n",
      "[3]\tvalidation-rmse:52.63504\n",
      "[4]\tvalidation-rmse:52.57680\n",
      "[5]\tvalidation-rmse:52.54258\n",
      "[6]\tvalidation-rmse:52.52405\n",
      "[7]\tvalidation-rmse:52.51788\n",
      "[8]\tvalidation-rmse:52.50589\n",
      "[9]\tvalidation-rmse:52.50879\n",
      "[10]\tvalidation-rmse:52.50827\n",
      "[11]\tvalidation-rmse:52.52969\n",
      "[12]\tvalidation-rmse:52.54888\n",
      "[13]\tvalidation-rmse:52.55890\n",
      "[14]\tvalidation-rmse:52.58324\n",
      "[15]\tvalidation-rmse:52.60151\n",
      "[16]\tvalidation-rmse:52.62888\n",
      "[17]\tvalidation-rmse:52.65565\n"
     ]
    },
    {
     "name": "stderr",
     "output_type": "stream",
     "text": [
      "2025/07/08 06:56:11 WARNING mlflow.models.model: `artifact_path` is deprecated. Please use `name` instead.\n",
      "/home/codespace/anaconda3/envs/exp-tracking-env/lib/python3.9/site-packages/xgboost/core.py:158: UserWarning: [06:56:11] WARNING: /workspace/src/c_api/c_api.cc:1374: Saving model in the UBJSON format as default.  You can use file extension: `json`, `ubj` or `deprecated` to choose between formats.\n",
      "  warnings.warn(smsg, UserWarning)\n",
      "\u001b[31m2025/07/08 06:56:14 WARNING mlflow.models.model: Model logged without a signature and input example. Please set `input_example` parameter when logging the model to auto infer the model signature.\u001b[0m\n"
     ]
    },
    {
     "ename": "",
     "evalue": "",
     "output_type": "error",
     "traceback": [
      "\u001b[1;31mThe Kernel crashed while executing code in the current cell or a previous cell. \n",
      "\u001b[1;31mPlease review the code in the cell(s) to identify a possible cause of the failure. \n",
      "\u001b[1;31mClick <a href='https://aka.ms/vscodeJupyterKernelCrash'>here</a> for more info. \n",
      "\u001b[1;31mView Jupyter <a href='command:jupyter.viewOutput'>log</a> for further details."
     ]
    }
   ],
   "source": [
    "import mlflow\n",
    "import mlflow.xgboost\n",
    "with mlflow.start_run():\n",
    "    \n",
    "    train = xgb.DMatrix(X_train, label=y_train)\n",
    "    valid = xgb.DMatrix(X_val, label=y_val)\n",
    "\n",
    "    best_params = {\n",
    "    'learning_rate': 0.09585,\n",
    "    'max_depth': 6,  # Reduce from 10\n",
    "    'min_child_weight': 1.06,\n",
    "    'objective': 'reg:squarederror',  # Updated\n",
    "    'reg_alpha': 0.01806,\n",
    "    'reg_lambda': 0.01166,\n",
    "    'tree_method': 'hist',  # Efficient memory use\n",
    "    'seed': 42\n",
    "}\n",
    "    mlflow.set_tag(\"model\", \"xgboost\")\n",
    "    mlflow.log_param(\"train-data-path\", \"./data/green_tripdata_2021-01.parquet\")\n",
    "    mlflow.log_param(\"valid-data-path\", \"./data/green_tripdata_2021-02.parquet\")\n",
    "    mlflow.log_param(\"num-boost-rounds\", 200)\n",
    "    mlflow.log_param(\"early-stopping-rounds\", 10)   \n",
    "\n",
    "\n",
    "    mlflow.log_params(best_params)\n",
    "\n",
    "    booster = xgb.train(\n",
    "        params=best_params,\n",
    "        dtrain=train,\n",
    "        num_boost_round=200,\n",
    "        evals=[(valid, 'validation')],\n",
    "        early_stopping_rounds=10\n",
    "    )\n",
    "\n",
    "    y_pred = booster.predict(valid)\n",
    "    rmse = np.sqrt(mean_squared_error(y_val, y_pred))\n",
    "    mlflow.log_metric(\"rmse\", rmse)\n",
    "\n",
    "    with open(\"models/preprocessor.b\", \"wb\") as f_out:\n",
    "        pickle.dump(dv, f_out)\n",
    "    mlflow.log_artifact(\"models/preprocessor.b\", artifact_path=\"preprocessor\")\n",
    "\n",
    "    mlflow.xgboost.log_model(booster, name=\"model\")\n"
   ]
  },
  {
   "cell_type": "code",
   "execution_count": null,
   "id": "87614b82",
   "metadata": {},
   "outputs": [],
   "source": [
    "from sklearn.ensemble import RandomForestRegressor, GradientBoostingRegressor, ExtraTreesRegressor\n",
    "from sklearn.svm import LinearSVR\n",
    "\n",
    "mlflow.sklearn.autolog()\n",
    "\n",
    "for model_class in (RandomForestRegressor, GradientBoostingRegressor, ExtraTreesRegressor, LinearSVR):\n",
    "\n",
    "    with mlflow.start_run():\n",
    "\n",
    "        mlflow.log_param(\"train-data-path\", \"./data/green_tripdata_2021-01.parquet\")\n",
    "        mlflow.log_param(\"valid-data-path\", \"./data/green_tripdata_2021-02.parquet\")\n",
    "        mlflow.log_artifact(\"models/preprocessor.b\", artifact_path=\"preprocessor\")\n",
    "\n",
    "        mlmodel = model_class()\n",
    "        mlmodel.fit(X_train, y_train)\n",
    "\n",
    "        y_pred = mlmodel.predict(X_val)\n",
    "        rmse = np.sqrt(mean_squared_error(y_val, y_pred))\n",
    "        mlflow.log_metric(\"rmse\", rmse)\n",
    "        "
   ]
  }
 ],
 "metadata": {
  "kernelspec": {
   "display_name": "Python 3",
   "language": "python",
   "name": "python3"
  },
  "language_info": {
   "codemirror_mode": {
    "name": "ipython",
    "version": 3
   },
   "file_extension": ".py",
   "mimetype": "text/x-python",
   "name": "python",
   "nbconvert_exporter": "python",
   "pygments_lexer": "ipython3",
   "version": "3.9.23"
  }
 },
 "nbformat": 4,
 "nbformat_minor": 5
}
